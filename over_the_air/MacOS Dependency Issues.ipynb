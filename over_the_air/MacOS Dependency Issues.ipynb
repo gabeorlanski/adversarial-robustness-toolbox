{
 "cells": [
  {
   "cell_type": "code",
   "execution_count": 1,
   "metadata": {},
   "outputs": [
    {
     "data": {
      "text/plain": [
       "'\\nThis note book is going over all the issues I had when installing I3D and MMA dependencies on my macbook. \\n\\nThis note book will also go over any issues I had running Unit Tests or all files installed created by from \\nthe following branches: \\n\\nOver_The_Air \\nCurrent_Over_The_Air \\nOld_Over_The_Air \\nUnitTestDev\\n\\nYou may run into similar issues as many of the dependencies used in the Over the Air attack are similar to the ones \\nused throughout the whole Adversarial Robustness Toolbox \\n'"
      ]
     },
     "execution_count": 1,
     "metadata": {},
     "output_type": "execute_result"
    }
   ],
   "source": [
    "'''\n",
    "This note book is going over all the issues I had when installing I3D and MMA dependencies on my macbook. \n",
    "\n",
    "This note book will also go over any issues I had running Unit Tests or all files installed created by from \n",
    "the following branches: \n",
    "\n",
    "Over_The_Air \n",
    "Current_Over_The_Air \n",
    "Old_Over_The_Air \n",
    "UnitTestDev\n",
    "\n",
    "You may run into similar issues as many of the dependencies used in the Over the Air attack are similar to the ones \n",
    "used throughout the whole Adversarial Robustness Toolbox \n",
    "'''"
   ]
  },
  {
   "cell_type": "code",
   "execution_count": 8,
   "metadata": {},
   "outputs": [
    {
     "data": {
      "text/plain": [
       "'\\nmacOS Big Sur \\nVersion 11.3 \\nMacBook Pro (16-inch, 2019)\\nProcessor 2.6 GHz 6-Core Intel Core i7\\nGraphics AMD Radeon Pro 5300M\\n'"
      ]
     },
     "execution_count": 8,
     "metadata": {},
     "output_type": "execute_result"
    }
   ],
   "source": [
    "# This is the computer I used \n",
    "\n",
    "'''\n",
    "macOS Big Sur \n",
    "Version 11.3 \n",
    "MacBook Pro (16-inch, 2019)\n",
    "Processor 2.6 GHz 6-Core Intel Core i7\n",
    "Graphics AMD Radeon Pro 5300M\n",
    "'''"
   ]
  },
  {
   "cell_type": "code",
   "execution_count": 6,
   "metadata": {},
   "outputs": [],
   "source": [
    "# First thing first is we have want to check that we have python3 installed \n",
    "\n",
    "# This can be done through the terminal but for simplicity I have written a simple script in the next cell"
   ]
  },
  {
   "cell_type": "code",
   "execution_count": 7,
   "metadata": {},
   "outputs": [
    {
     "name": "stdout",
     "output_type": "stream",
     "text": [
      "3.8.5\n"
     ]
    }
   ],
   "source": [
    "from platform import python_version\n",
    "\n",
    "print(python_version())"
   ]
  },
  {
   "cell_type": "code",
   "execution_count": 9,
   "metadata": {},
   "outputs": [
    {
     "data": {
      "text/plain": [
       "'\\nThis can also be done through the terminal \\n\\npython --verson \\n\\n'"
      ]
     },
     "execution_count": 9,
     "metadata": {},
     "output_type": "execute_result"
    }
   ],
   "source": [
    "'''\n",
    "This can also be done through the terminal: \n",
    "\n",
    "python --verson \n",
    "\n",
    "'''"
   ]
  },
  {
   "cell_type": "code",
   "execution_count": 10,
   "metadata": {},
   "outputs": [
    {
     "data": {
      "text/plain": [
       "'\\nIf our python version is not 3.xx there will likely be problems \\n\\nBased on the version of macOS you are using python is installed by default \\n\\nOn Big Sur, it should default to 3.8 \\n\\nOther versions of macOS, may be on python 2 \\n\\nIf you wish to remain on an older version of macOS, and your system defaults to python2 \\n\\nYou need to change your $PATH\\n'"
      ]
     },
     "execution_count": 10,
     "metadata": {},
     "output_type": "execute_result"
    }
   ],
   "source": [
    "'''\n",
    "If our python version is not 3.xx there will likely be problems \n",
    "\n",
    "Based on the version of macOS you are using python is installed by default \n",
    "\n",
    "On Big Sur, it should default to 3.8 \n",
    "\n",
    "Other versions of macOS, may be on python 2 \n",
    "\n",
    "If you wish to remain on an older version of macOS, and your system defaults to python2 \n",
    "\n",
    "You need to change your $PATH\n",
    "'''"
   ]
  },
  {
   "cell_type": "code",
   "execution_count": null,
   "metadata": {},
   "outputs": [],
   "source": [
    "'''\n",
    "Even if you update your operating system, your path may still default to python 2\n",
    "\n",
    "I had this issue and decided to simply erase my macbook and start with a fresh laptop\n",
    "\n",
    "I had this issue because I installed python 3 through Anaconda and that modified my $PATH \n",
    "\n",
    "This routed my $PATH through Anaconda which was the source of all my problems \n",
    "\n",
    "If you decide not to go this path you will have to fix your $PATH \n",
    "\n",
    "I would reccomend resetting your path first by following the instructions in the link below: \n",
    "\n",
    "https://superuser.com/questions/121870/how-do-i-reset-the-path-variable-on-mac-os-x\n",
    "\n",
    "'''"
   ]
  },
  {
   "cell_type": "code",
   "execution_count": null,
   "metadata": {},
   "outputs": [],
   "source": [
    "'''\n",
    "If you decide not to change your path, note that you will have run everything in the terminal through\n",
    "the command \n",
    "\n",
    "python3 script.py \n",
    "\n",
    "There will still be problems as you may not be able to install all the libraries you need \n",
    "\n",
    "You will need to make your system default to python3 \n",
    "\n",
    "https://dev.to/malwarebo/how-to-set-python3-as-a-default-python-version-on-mac-4jjf#:~:text=Open%20the%20terminal%20(bash%20or,https%3A%2F%2Fbrew.sh).&text=Look%20where%20it%20is%20installed.&text=Change%20the%20default%20python%20symlink,want%20to%20use%20from%20above.\n",
    "\n",
    "Once you have done this I reccomend uninstalling Anaconda and reinstalling it\n",
    "\n",
    "'''"
   ]
  },
  {
   "cell_type": "code",
   "execution_count": null,
   "metadata": {},
   "outputs": [],
   "source": [
    "'''\n",
    "I just want to reemphasize \n",
    "\n",
    "INSTALL PYTHON BEFORE INSTALLING ANACONDA \n",
    "\n",
    "DO NOT USE THE BUILT IN PYTHON INSTALLER IN ANACONDA\n",
    "'''"
   ]
  }
 ],
 "metadata": {
  "kernelspec": {
   "display_name": "Python 3",
   "language": "python",
   "name": "python3"
  },
  "language_info": {
   "codemirror_mode": {
    "name": "ipython",
    "version": 3
   },
   "file_extension": ".py",
   "mimetype": "text/x-python",
   "name": "python",
   "nbconvert_exporter": "python",
   "pygments_lexer": "ipython3",
   "version": "3.8.5"
  }
 },
 "nbformat": 4,
 "nbformat_minor": 4
}
