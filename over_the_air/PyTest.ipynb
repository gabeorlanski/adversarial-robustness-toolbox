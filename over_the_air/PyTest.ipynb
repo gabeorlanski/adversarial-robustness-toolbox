{
 "cells": [
  {
   "cell_type": "code",
   "execution_count": 3,
   "metadata": {},
   "outputs": [
    {
     "name": "stdout",
     "output_type": "stream",
     "text": [
      "Requirement already satisfied: jupyter-pytest-2 in /Users/jeffreyfang/opt/anaconda3/lib/python3.7/site-packages (1.0.1)\n",
      "Requirement already satisfied: pytest>=5.0 in /Users/jeffreyfang/opt/anaconda3/lib/python3.7/site-packages (from jupyter-pytest-2) (6.2.2)\n",
      "Requirement already satisfied: notebook>=6.0 in /Users/jeffreyfang/opt/anaconda3/lib/python3.7/site-packages (from jupyter-pytest-2) (6.0.1)\n",
      "Requirement already satisfied: packaging in /Users/jeffreyfang/opt/anaconda3/lib/python3.7/site-packages (from pytest>=5.0->jupyter-pytest-2) (19.2)\n",
      "Requirement already satisfied: attrs>=19.2.0 in /Users/jeffreyfang/opt/anaconda3/lib/python3.7/site-packages (from pytest>=5.0->jupyter-pytest-2) (19.2.0)\n",
      "Requirement already satisfied: toml in /Users/jeffreyfang/opt/anaconda3/lib/python3.7/site-packages (from pytest>=5.0->jupyter-pytest-2) (0.10.2)\n",
      "Requirement already satisfied: pluggy<1.0.0a1,>=0.12 in /Users/jeffreyfang/opt/anaconda3/lib/python3.7/site-packages (from pytest>=5.0->jupyter-pytest-2) (0.13.0)\n",
      "Requirement already satisfied: py>=1.8.2 in /Users/jeffreyfang/opt/anaconda3/lib/python3.7/site-packages (from pytest>=5.0->jupyter-pytest-2) (1.10.0)\n",
      "Requirement already satisfied: importlib-metadata>=0.12; python_version < \"3.8\" in /Users/jeffreyfang/opt/anaconda3/lib/python3.7/site-packages (from pytest>=5.0->jupyter-pytest-2) (0.23)\n",
      "Requirement already satisfied: iniconfig in /Users/jeffreyfang/opt/anaconda3/lib/python3.7/site-packages (from pytest>=5.0->jupyter-pytest-2) (1.1.1)\n",
      "Requirement already satisfied: nbformat in /Users/jeffreyfang/opt/anaconda3/lib/python3.7/site-packages (from notebook>=6.0->jupyter-pytest-2) (4.4.0)\n",
      "Requirement already satisfied: nbconvert in /Users/jeffreyfang/opt/anaconda3/lib/python3.7/site-packages (from notebook>=6.0->jupyter-pytest-2) (5.6.0)\n",
      "Requirement already satisfied: jupyter-core>=4.4.0 in /Users/jeffreyfang/opt/anaconda3/lib/python3.7/site-packages (from notebook>=6.0->jupyter-pytest-2) (4.5.0)\n",
      "Requirement already satisfied: prometheus-client in /Users/jeffreyfang/opt/anaconda3/lib/python3.7/site-packages (from notebook>=6.0->jupyter-pytest-2) (0.7.1)\n",
      "Requirement already satisfied: tornado>=5.0 in /Users/jeffreyfang/opt/anaconda3/lib/python3.7/site-packages (from notebook>=6.0->jupyter-pytest-2) (6.0.3)\n",
      "Requirement already satisfied: terminado>=0.8.1 in /Users/jeffreyfang/opt/anaconda3/lib/python3.7/site-packages (from notebook>=6.0->jupyter-pytest-2) (0.8.2)\n",
      "Requirement already satisfied: pyzmq>=17 in /Users/jeffreyfang/opt/anaconda3/lib/python3.7/site-packages (from notebook>=6.0->jupyter-pytest-2) (18.1.0)\n",
      "Requirement already satisfied: jupyter-client>=5.3.1 in /Users/jeffreyfang/opt/anaconda3/lib/python3.7/site-packages (from notebook>=6.0->jupyter-pytest-2) (5.3.3)\n",
      "Requirement already satisfied: Send2Trash in /Users/jeffreyfang/opt/anaconda3/lib/python3.7/site-packages (from notebook>=6.0->jupyter-pytest-2) (1.5.0)\n",
      "Requirement already satisfied: jinja2 in /Users/jeffreyfang/opt/anaconda3/lib/python3.7/site-packages (from notebook>=6.0->jupyter-pytest-2) (2.10.3)\n",
      "Requirement already satisfied: ipython-genutils in /Users/jeffreyfang/opt/anaconda3/lib/python3.7/site-packages (from notebook>=6.0->jupyter-pytest-2) (0.2.0)\n",
      "Requirement already satisfied: traitlets>=4.2.1 in /Users/jeffreyfang/opt/anaconda3/lib/python3.7/site-packages (from notebook>=6.0->jupyter-pytest-2) (4.3.3)\n",
      "Requirement already satisfied: ipykernel in /Users/jeffreyfang/opt/anaconda3/lib/python3.7/site-packages (from notebook>=6.0->jupyter-pytest-2) (5.1.2)\n",
      "Requirement already satisfied: six in /Users/jeffreyfang/opt/anaconda3/lib/python3.7/site-packages (from packaging->pytest>=5.0->jupyter-pytest-2) (1.12.0)\n",
      "Requirement already satisfied: pyparsing>=2.0.2 in /Users/jeffreyfang/opt/anaconda3/lib/python3.7/site-packages (from packaging->pytest>=5.0->jupyter-pytest-2) (2.4.2)\n",
      "Requirement already satisfied: zipp>=0.5 in /Users/jeffreyfang/opt/anaconda3/lib/python3.7/site-packages (from importlib-metadata>=0.12; python_version < \"3.8\"->pytest>=5.0->jupyter-pytest-2) (0.6.0)\n",
      "Requirement already satisfied: jsonschema!=2.5.0,>=2.4 in /Users/jeffreyfang/opt/anaconda3/lib/python3.7/site-packages (from nbformat->notebook>=6.0->jupyter-pytest-2) (3.0.2)\n",
      "Requirement already satisfied: pandocfilters>=1.4.1 in /Users/jeffreyfang/opt/anaconda3/lib/python3.7/site-packages (from nbconvert->notebook>=6.0->jupyter-pytest-2) (1.4.2)\n",
      "Requirement already satisfied: bleach in /Users/jeffreyfang/opt/anaconda3/lib/python3.7/site-packages (from nbconvert->notebook>=6.0->jupyter-pytest-2) (3.1.0)\n",
      "Requirement already satisfied: testpath in /Users/jeffreyfang/opt/anaconda3/lib/python3.7/site-packages (from nbconvert->notebook>=6.0->jupyter-pytest-2) (0.4.2)\n",
      "Requirement already satisfied: mistune<2,>=0.8.1 in /Users/jeffreyfang/opt/anaconda3/lib/python3.7/site-packages (from nbconvert->notebook>=6.0->jupyter-pytest-2) (0.8.4)\n",
      "Requirement already satisfied: entrypoints>=0.2.2 in /Users/jeffreyfang/opt/anaconda3/lib/python3.7/site-packages (from nbconvert->notebook>=6.0->jupyter-pytest-2) (0.3)\n",
      "Requirement already satisfied: pygments in /Users/jeffreyfang/opt/anaconda3/lib/python3.7/site-packages (from nbconvert->notebook>=6.0->jupyter-pytest-2) (2.4.2)\n",
      "Requirement already satisfied: defusedxml in /Users/jeffreyfang/opt/anaconda3/lib/python3.7/site-packages (from nbconvert->notebook>=6.0->jupyter-pytest-2) (0.6.0)\n",
      "Requirement already satisfied: python-dateutil>=2.1 in /Users/jeffreyfang/opt/anaconda3/lib/python3.7/site-packages (from jupyter-client>=5.3.1->notebook>=6.0->jupyter-pytest-2) (2.8.0)\n",
      "Requirement already satisfied: MarkupSafe>=0.23 in /Users/jeffreyfang/opt/anaconda3/lib/python3.7/site-packages (from jinja2->notebook>=6.0->jupyter-pytest-2) (1.1.1)\n",
      "Requirement already satisfied: decorator in /Users/jeffreyfang/opt/anaconda3/lib/python3.7/site-packages (from traitlets>=4.2.1->notebook>=6.0->jupyter-pytest-2) (4.4.0)\n",
      "Requirement already satisfied: ipython>=5.0.0 in /Users/jeffreyfang/opt/anaconda3/lib/python3.7/site-packages (from ipykernel->notebook>=6.0->jupyter-pytest-2) (7.8.0)\n",
      "Requirement already satisfied: more-itertools in /Users/jeffreyfang/opt/anaconda3/lib/python3.7/site-packages (from zipp>=0.5->importlib-metadata>=0.12; python_version < \"3.8\"->pytest>=5.0->jupyter-pytest-2) (7.2.0)\n",
      "Requirement already satisfied: pyrsistent>=0.14.0 in /Users/jeffreyfang/opt/anaconda3/lib/python3.7/site-packages (from jsonschema!=2.5.0,>=2.4->nbformat->notebook>=6.0->jupyter-pytest-2) (0.15.4)\n",
      "Requirement already satisfied: setuptools in /Users/jeffreyfang/opt/anaconda3/lib/python3.7/site-packages (from jsonschema!=2.5.0,>=2.4->nbformat->notebook>=6.0->jupyter-pytest-2) (41.4.0)\n",
      "Requirement already satisfied: webencodings in /Users/jeffreyfang/opt/anaconda3/lib/python3.7/site-packages (from bleach->nbconvert->notebook>=6.0->jupyter-pytest-2) (0.5.1)\n",
      "Requirement already satisfied: pexpect; sys_platform != \"win32\" in /Users/jeffreyfang/opt/anaconda3/lib/python3.7/site-packages (from ipython>=5.0.0->ipykernel->notebook>=6.0->jupyter-pytest-2) (4.7.0)\n",
      "Requirement already satisfied: backcall in /Users/jeffreyfang/opt/anaconda3/lib/python3.7/site-packages (from ipython>=5.0.0->ipykernel->notebook>=6.0->jupyter-pytest-2) (0.1.0)\n",
      "Requirement already satisfied: pickleshare in /Users/jeffreyfang/opt/anaconda3/lib/python3.7/site-packages (from ipython>=5.0.0->ipykernel->notebook>=6.0->jupyter-pytest-2) (0.7.5)\n",
      "Requirement already satisfied: prompt-toolkit<2.1.0,>=2.0.0 in /Users/jeffreyfang/opt/anaconda3/lib/python3.7/site-packages (from ipython>=5.0.0->ipykernel->notebook>=6.0->jupyter-pytest-2) (2.0.10)\n",
      "Requirement already satisfied: jedi>=0.10 in /Users/jeffreyfang/opt/anaconda3/lib/python3.7/site-packages (from ipython>=5.0.0->ipykernel->notebook>=6.0->jupyter-pytest-2) (0.15.1)\n",
      "Requirement already satisfied: appnope; sys_platform == \"darwin\" in /Users/jeffreyfang/opt/anaconda3/lib/python3.7/site-packages (from ipython>=5.0.0->ipykernel->notebook>=6.0->jupyter-pytest-2) (0.1.0)\n",
      "Requirement already satisfied: ptyprocess>=0.5 in /Users/jeffreyfang/opt/anaconda3/lib/python3.7/site-packages (from pexpect; sys_platform != \"win32\"->ipython>=5.0.0->ipykernel->notebook>=6.0->jupyter-pytest-2) (0.6.0)\n",
      "Requirement already satisfied: wcwidth in /Users/jeffreyfang/opt/anaconda3/lib/python3.7/site-packages (from prompt-toolkit<2.1.0,>=2.0.0->ipython>=5.0.0->ipykernel->notebook>=6.0->jupyter-pytest-2) (0.1.7)\n",
      "Requirement already satisfied: parso>=0.5.0 in /Users/jeffreyfang/opt/anaconda3/lib/python3.7/site-packages (from jedi>=0.10->ipython>=5.0.0->ipykernel->notebook>=6.0->jupyter-pytest-2) (0.5.1)\n"
     ]
    },
    {
     "name": "stdout",
     "output_type": "stream",
     "text": [
      "Note: you may need to restart the kernel to use updated packages.\n"
     ]
    }
   ],
   "source": [
    "pip install jupyter-pytest-2"
   ]
  },
  {
   "cell_type": "code",
   "execution_count": 7,
   "metadata": {},
   "outputs": [
    {
     "name": "stdout",
     "output_type": "stream",
     "text": [
      "============================= test session starts ==============================\n",
      "platform darwin -- Python 3.7.4, pytest-6.2.2, py-1.10.0, pluggy-0.13.0 -- /Users/jeffreyfang/opt/anaconda3/bin/python\n",
      "cachedir: .pytest_cache\n",
      "rootdir: /Users/jeffreyfang/Documents/Dirty Code Tester\n",
      "plugins: arraydiff-0.3, jupyter-pytest-2-1.0.1, remotedata-0.3.2, doctestplus-0.4.0, openfiles-0.4.0\n",
      "collecting ... collected 3 items\n",
      "\n",
      "::test_foo[1] PASSED\n",
      "::test_foo[2] PASSED\n",
      "::test_foo[3] PASSED\n",
      "\n",
      "============================== 3 passed in 0.01s ===============================\n"
     ]
    },
    {
     "data": {
      "text/plain": [
       "<ExitCode.OK: 0>"
      ]
     },
     "execution_count": 7,
     "metadata": {},
     "output_type": "execute_result"
    }
   ],
   "source": [
    "#This code is from: https://pypi.org/project/jupyter-pytest-2/\n",
    "\n",
    "import pytest\n",
    "\n",
    "some_out_of_test_object = 'Hello, world!'\n",
    "\n",
    "# Cell\n",
    "\n",
    "\n",
    "\n",
    "@pytest.fixture(params=[1,2,3])\n",
    "def foo(request):\n",
    "  return request.param\n",
    "  \n",
    "# Cell\n",
    "\n",
    "def test_foo(foo):\n",
    "  assert some_out_of_test_object == 'Hello, world!'\n",
    "  assert isinstance(foo, int)\n",
    "  \n",
    "# Cell\n",
    "\n",
    "pytest.main(args=['-sv'])"
   ]
  },
  {
   "cell_type": "code",
   "execution_count": null,
   "metadata": {},
   "outputs": [],
   "source": []
  }
 ],
 "metadata": {
  "kernelspec": {
   "display_name": "Python 3",
   "language": "python",
   "name": "python3"
  },
  "language_info": {
   "codemirror_mode": {
    "name": "ipython",
    "version": 3
   },
   "file_extension": ".py",
   "mimetype": "text/x-python",
   "name": "python",
   "nbconvert_exporter": "python",
   "pygments_lexer": "ipython3",
   "version": "3.7.4"
  }
 },
 "nbformat": 4,
 "nbformat_minor": 2
}